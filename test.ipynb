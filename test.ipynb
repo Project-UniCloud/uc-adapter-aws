{
 "cells": [
  {
   "cell_type": "code",
   "id": "initial_id",
   "metadata": {
    "collapsed": true,
    "ExecuteTime": {
     "end_time": "2025-05-30T19:41:27.040338Z",
     "start_time": "2025-05-30T19:41:27.035152Z"
    }
   },
   "source": [
    "import boto3\n",
    "import json\n",
    "import os\n",
    "from botocore.exceptions import ClientError\n",
    "\n",
    "class GroupManager:\n",
    "    def __init__(self):\n",
    "        self.iam_client = boto3.client('iam')\n",
    "\n",
    "    def create_group_with_leaders(self, resource_type: str, leaders: list[str]):\n",
    "        group_name = f\"{resource_type}_group\"\n",
    "\n",
    "        # 1. Tworzenie grupy\n",
    "        try:\n",
    "            self.iam_client.create_group(GroupName=group_name)\n",
    "            print(f\"Grupa '{group_name}' została utworzona.\")\n",
    "        except ClientError as e:\n",
    "            if e.response['Error']['Code'] == 'EntityAlreadyExists':\n",
    "                print(f\"Grupa '{group_name}' już istnieje.\")\n",
    "            else:\n",
    "                raise\n",
    "\n",
    "        # 2. Przypisywanie polityki do grupy\n",
    "        policy_path = os.path.join('config', 'policies', f\"{resource_type}_policy.json\")\n",
    "        if not os.path.isfile(policy_path):\n",
    "            raise FileNotFoundError(f\"Plik polityki '{policy_path}' nie istnieje.\")\n",
    "\n",
    "        with open(policy_path, 'r') as policy_file:\n",
    "            policy_document = json.load(policy_file)\n",
    "\n",
    "        try:\n",
    "            self.iam_client.put_group_policy(\n",
    "                GroupName=group_name,\n",
    "                PolicyName=f\"{resource_type}_policy\",\n",
    "                PolicyDocument=json.dumps(policy_document)\n",
    "            )\n",
    "            print(f\"Polityka '{resource_type}_policy' została przypisana do grupy '{group_name}'.\")\n",
    "        except ClientError as e:\n",
    "            print(f\"Błąd podczas przypisywania polityki do grupy: {e}\")\n",
    "            raise\n",
    "\n",
    "        # 3. Tworzenie użytkowników prowadzących i przypisywanie ich do grupy\n",
    "        for leader in leaders:\n",
    "            try:\n",
    "                self.iam_client.create_user(UserName=leader)\n",
    "                print(f\"Użytkownik '{leader}' został utworzony.\")\n",
    "            except ClientError as e:\n",
    "                if e.response['Error']['Code'] == 'EntityAlreadyExists':\n",
    "                    print(f\"Użytkownik '{leader}' już istnieje.\")\n",
    "                else:\n",
    "                    raise\n",
    "\n",
    "            # Przypisywanie polityki do użytkownika\n",
    "            leader_policy_path = os.path.join('config', 'policies', 'leader_policy.json')\n",
    "            if not os.path.isfile(leader_policy_path):\n",
    "                raise FileNotFoundError(f\"Plik polityki '{leader_policy_path}' nie istnieje.\")\n",
    "\n",
    "            with open(leader_policy_path, 'r') as leader_policy_file:\n",
    "                leader_policy_document = json.load(leader_policy_file)\n",
    "\n",
    "            try:\n",
    "                self.iam_client.put_user_policy(\n",
    "                    UserName=leader,\n",
    "                    PolicyName='leader_policy',\n",
    "                    PolicyDocument=json.dumps(leader_policy_document)\n",
    "                )\n",
    "                print(f\"Polityka 'leader_policy' została przypisana do użytkownika '{leader}'.\")\n",
    "            except ClientError as e:\n",
    "                print(f\"Błąd podczas przypisywania polityki do użytkownika '{leader}': {e}\")\n",
    "                raise\n",
    "\n",
    "            # Dodawanie użytkownika do grupy\n",
    "            try:\n",
    "                self.iam_client.add_user_to_group(\n",
    "                    GroupName=group_name,\n",
    "                    UserName=leader\n",
    "                )\n",
    "                print(f\"Użytkownik '{leader}' został dodany do grupy '{group_name}'.\")\n",
    "            except ClientError as e:\n",
    "                print(f\"Błąd podczas dodawania użytkownika '{leader}' do grupy: {e}\")\n",
    "                raise\n"
   ],
   "outputs": [],
   "execution_count": 3
  },
  {
   "metadata": {
    "ExecuteTime": {
     "end_time": "2025-05-30T19:41:28.698Z",
     "start_time": "2025-05-30T19:41:27.046962Z"
    }
   },
   "cell_type": "code",
   "source": [
    "if __name__ == \"__main__\":\n",
    "    gm = GroupManager()\n",
    "    gm.create_group_with_leaders(\n",
    "        resource_type='ec2',\n",
    "        leaders=['alice', 'bob']\n",
    "    )"
   ],
   "id": "b7a7b70b184c57d8",
   "outputs": [
    {
     "name": "stdout",
     "output_type": "stream",
     "text": [
      "Grupa 'ec2_group' została utworzona.\n",
      "Polityka 'ec2_policy' została przypisana do grupy 'ec2_group'.\n",
      "Użytkownik 'alice' został utworzony.\n",
      "Polityka 'leader_policy' została przypisana do użytkownika 'alice'.\n",
      "Użytkownik 'alice' został dodany do grupy 'ec2_group'.\n",
      "Użytkownik 'bob' został utworzony.\n",
      "Polityka 'leader_policy' została przypisana do użytkownika 'bob'.\n",
      "Użytkownik 'bob' został dodany do grupy 'ec2_group'.\n"
     ]
    }
   ],
   "execution_count": 4
  }
 ],
 "metadata": {
  "kernelspec": {
   "display_name": "Python 3",
   "language": "python",
   "name": "python3"
  },
  "language_info": {
   "codemirror_mode": {
    "name": "ipython",
    "version": 2
   },
   "file_extension": ".py",
   "mimetype": "text/x-python",
   "name": "python",
   "nbconvert_exporter": "python",
   "pygments_lexer": "ipython2",
   "version": "2.7.6"
  }
 },
 "nbformat": 4,
 "nbformat_minor": 5
}
