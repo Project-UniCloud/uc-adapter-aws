{
 "cells": [
  {
   "cell_type": "code",
   "id": "initial_id",
   "metadata": {
    "collapsed": true,
    "ExecuteTime": {
     "end_time": "2025-05-30T20:22:53.652594Z",
     "start_time": "2025-05-30T20:22:53.646782Z"
    }
   },
   "source": [
    "import boto3\n",
    "from botocore.exceptions import ClientError\n",
    "from utils.utils import normalize_username\n",
    "\n",
    "\n",
    "class UserManager:\n",
    "    def __init__(self):\n",
    "        self.iam_client = boto3.client('iam')\n",
    "\n",
    "    def create_users_for_group(self, users: list[str], group_name: str) -> str:\n",
    "\n",
    "        created_users = []  # Śledzi nowo utworzonych użytkowników do rollbacku\n",
    "\n",
    "        for user in users:\n",
    "            # Generowanie i normalizacja nazwy użytkownika\n",
    "            raw_username = f\"{user}-{group_name}\"\n",
    "            username = normalize_username(raw_username)\n",
    "\n",
    "            try:\n",
    "                # Tworzenie użytkownika\n",
    "                self.iam_client.create_user(\n",
    "                    UserName=username,\n",
    "                    Tags=[{'Key': 'Group', 'Value': group_name}]\n",
    "                )\n",
    "                created_users.append(username)\n",
    "                print(f\"Utworzono użytkownika '{username}' z tagiem 'Group': '{group_name}'\")\n",
    "\n",
    "                # Ustawienie hasła i wymuszenie zmiany przy pierwszym logowaniu\n",
    "                self.iam_client.create_login_profile(\n",
    "                    UserName=username,\n",
    "                    Password=group_name,\n",
    "                    PasswordResetRequired=True\n",
    "                )\n",
    "                print(f\"Ustawiono hasło '{group_name}' dla użytkownika '{username}' (wymagana zmiana przy logowaniu)\")\n",
    "\n",
    "                # Dodawanie użytkownika do grupy\n",
    "                self.iam_client.add_user_to_group(\n",
    "                    GroupName=group_name,\n",
    "                    UserName=username\n",
    "                )\n",
    "                print(f\"Dodano użytkownika '{username}' do grupy '{group_name}'\")\n",
    "\n",
    "            except ClientError as e:\n",
    "                error_code = e.response['Error']['Code']\n",
    "\n",
    "                if error_code == 'EntityAlreadyExists':\n",
    "                    print(f\"Użytkownik '{username}' już istnieje, pomijanie\")\n",
    "                    continue\n",
    "                elif error_code == 'NoSuchEntity' and 'group' in e.response['Error']['Message'].lower():\n",
    "                    print(f\"Grupa '{group_name}' nie istnieje!\")\n",
    "                    # Rollback dla częściowo utworzonych użytkowników\n",
    "                    for created_user in created_users:\n",
    "                        try:\n",
    "                            self.iam_client.delete_login_profile(UserName=created_user)\n",
    "                        except ClientError:\n",
    "                            pass\n",
    "                        try:\n",
    "                            self.iam_client.delete_user(UserName=created_user)\n",
    "                            print(f\"Usunięto użytkownika '{created_user}' podczas rollbacku\")\n",
    "                        except ClientError as rollback_error:\n",
    "                            print(f\"Błąd podczas rollbacku dla '{created_user}': {rollback_error}\")\n",
    "                    return f\"Operacja przerwana: Grupa '{group_name}' nie istnieje\"\n",
    "\n",
    "                # Rollback dla innych błędów\n",
    "                print(f\"Błąd: {e} - Wycofywanie zmian dla {username}\")\n",
    "                for created_user in created_users:\n",
    "                    try:\n",
    "                        self.iam_client.delete_login_profile(UserName=created_user)\n",
    "                    except ClientError:\n",
    "                        pass\n",
    "                    try:\n",
    "                        self.iam_client.delete_user(UserName=created_user)\n",
    "                        print(f\"Usunięto użytkownika '{created_user}' podczas rollbacku\")\n",
    "                    except ClientError as rollback_error:\n",
    "                        print(f\"Błąd podczas rollbacku dla '{created_user}': {rollback_error}\")\n",
    "\n",
    "                return f\"Operacja przerwana: Błąd przy tworzeniu użytkownika '{username}' - {e}\"\n",
    "\n",
    "        return f\"Pomyślnie przetworzono {len(users)} użytkowników. Grupa: '{group_name}'\""
   ],
   "outputs": [],
   "execution_count": 51
  },
  {
   "metadata": {
    "ExecuteTime": {
     "end_time": "2025-05-30T20:22:53.686777Z",
     "start_time": "2025-05-30T20:22:53.656647Z"
    }
   },
   "cell_type": "code",
   "source": [
    "if __name__ == \"__main__\":\n",
    "    user_manager = UserManager()\n",
    "    users = ['Jakub Wieczór']\n",
    "    group = 'ec2_group'\n",
    "    result = user_manager.create_users_for_group(users, group)"
   ],
   "id": "b7a7b70b184c57d8",
   "outputs": [
    {
     "ename": "TypeError",
     "evalue": "normalize_username() missing 1 required positional argument: 'name'",
     "output_type": "error",
     "traceback": [
      "\u001B[31m---------------------------------------------------------------------------\u001B[39m",
      "\u001B[31mTypeError\u001B[39m                                 Traceback (most recent call last)",
      "\u001B[36mCell\u001B[39m\u001B[36m \u001B[39m\u001B[32mIn[52]\u001B[39m\u001B[32m, line 5\u001B[39m\n\u001B[32m      3\u001B[39m users = [\u001B[33m'\u001B[39m\u001B[33mJakub Wieczór\u001B[39m\u001B[33m'\u001B[39m]\n\u001B[32m      4\u001B[39m group = \u001B[33m'\u001B[39m\u001B[33mec2_group\u001B[39m\u001B[33m'\u001B[39m\n\u001B[32m----> \u001B[39m\u001B[32m5\u001B[39m result = \u001B[43muser_manager\u001B[49m\u001B[43m.\u001B[49m\u001B[43mcreate_users_for_group\u001B[49m\u001B[43m(\u001B[49m\u001B[43musers\u001B[49m\u001B[43m,\u001B[49m\u001B[43m \u001B[49m\u001B[43mgroup\u001B[49m\u001B[43m)\u001B[49m\n",
      "\u001B[36mCell\u001B[39m\u001B[36m \u001B[39m\u001B[32mIn[51]\u001B[39m\u001B[32m, line 17\u001B[39m, in \u001B[36mUserManager.create_users_for_group\u001B[39m\u001B[34m(self, users, group_name)\u001B[39m\n\u001B[32m     14\u001B[39m \u001B[38;5;28;01mfor\u001B[39;00m user \u001B[38;5;129;01min\u001B[39;00m users:\n\u001B[32m     15\u001B[39m     \u001B[38;5;66;03m# Generowanie i normalizacja nazwy użytkownika\u001B[39;00m\n\u001B[32m     16\u001B[39m     raw_username = \u001B[33mf\u001B[39m\u001B[33m\"\u001B[39m\u001B[38;5;132;01m{\u001B[39;00muser\u001B[38;5;132;01m}\u001B[39;00m\u001B[33m-\u001B[39m\u001B[38;5;132;01m{\u001B[39;00mgroup_name\u001B[38;5;132;01m}\u001B[39;00m\u001B[33m\"\u001B[39m\n\u001B[32m---> \u001B[39m\u001B[32m17\u001B[39m     username = \u001B[43mnormalize_username\u001B[49m\u001B[43m(\u001B[49m\u001B[43mraw_username\u001B[49m\u001B[43m)\u001B[49m\n\u001B[32m     19\u001B[39m     \u001B[38;5;28;01mtry\u001B[39;00m:\n\u001B[32m     20\u001B[39m         \u001B[38;5;66;03m# Tworzenie użytkownika\u001B[39;00m\n\u001B[32m     21\u001B[39m         \u001B[38;5;28mself\u001B[39m.iam_client.create_user(\n\u001B[32m     22\u001B[39m             UserName=username,\n\u001B[32m     23\u001B[39m             Tags=[{\u001B[33m'\u001B[39m\u001B[33mKey\u001B[39m\u001B[33m'\u001B[39m: \u001B[33m'\u001B[39m\u001B[33mGroup\u001B[39m\u001B[33m'\u001B[39m, \u001B[33m'\u001B[39m\u001B[33mValue\u001B[39m\u001B[33m'\u001B[39m: group_name}]\n\u001B[32m     24\u001B[39m         )\n",
      "\u001B[31mTypeError\u001B[39m: normalize_username() missing 1 required positional argument: 'name'"
     ]
    }
   ],
   "execution_count": 52
  }
 ],
 "metadata": {
  "kernelspec": {
   "display_name": "Python 3",
   "language": "python",
   "name": "python3"
  },
  "language_info": {
   "codemirror_mode": {
    "name": "ipython",
    "version": 2
   },
   "file_extension": ".py",
   "mimetype": "text/x-python",
   "name": "python",
   "nbconvert_exporter": "python",
   "pygments_lexer": "ipython2",
   "version": "2.7.6"
  }
 },
 "nbformat": 4,
 "nbformat_minor": 5
}
